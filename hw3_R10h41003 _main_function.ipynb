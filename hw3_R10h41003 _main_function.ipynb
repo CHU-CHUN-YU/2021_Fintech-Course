{
 "cells": [
  {
   "cell_type": "code",
   "execution_count": 1,
   "id": "367573ef",
   "metadata": {},
   "outputs": [
    {
     "name": "stdout",
     "output_type": "stream",
     "text": [
      "CUDA is available!  Training on GPU ...\n"
     ]
    }
   ],
   "source": [
    "import numpy as np\n",
    "from sklearn.model_selection import train_test_split\n",
    "from torch.utils.data.sampler import  SubsetRandomSampler \n",
    "from torchvision import datasets, transforms\n",
    "import torch\n",
    "import torch.nn as nn\n",
    "import torch.nn.functional as F\n",
    "from torch.autograd import Variable\n",
    "import matplotlib.pyplot as plt\n",
    "import cv2\n",
    "train_on_gpu = torch.cuda.is_available()\n",
    "if not train_on_gpu:\n",
    "    print('CUDA is not available.  Training on CPU ...')\n",
    "else:\n",
    "    print('CUDA is available!  Training on GPU ...')\n",
    "device = torch.device(\"cuda\" if torch.cuda.is_available() else \"cpu\")"
   ]
  },
  {
   "cell_type": "code",
   "execution_count": 1,
   "id": "8af9a7de",
   "metadata": {},
   "outputs": [
    {
     "name": "stderr",
     "output_type": "stream",
     "text": [
      "Using TensorFlow backend.\n"
     ]
    }
   ],
   "source": [
    "from tensorflow import keras\n",
    "from keras.datasets import fashion_mnist"
   ]
  },
  {
   "cell_type": "code",
   "execution_count": 5,
   "id": "ccd0d317",
   "metadata": {},
   "outputs": [],
   "source": [
    "# 3,1\n",
    "# Create CNN Model\n",
    "class CNN_Model(nn.Module):\n",
    "    def __init__(self):\n",
    "        super(CNN_Model, self).__init__()\n",
    "\n",
    "        # Convolution 1 , input_shape=(1,28,28)  #out_channel==幾個filter=幾個feature map\n",
    "        self.cnn1 = nn.Conv2d(in_channels=1, out_channels=16, kernel_size=3, stride=1, padding=0) #output_shape=(16,26,26)\n",
    "        self.relu1 = nn.ReLU() # activation\n",
    "        # Max pool 1\n",
    "        self.maxpool1 = nn.MaxPool2d(kernel_size=2,ceil_mode=True) #output_shape=(16,13,13)\n",
    "        # Convolution 2\n",
    "        self.cnn2 = nn.Conv2d(in_channels=16, out_channels=32, kernel_size=3, stride=1, padding=0) #output_shape=(32,11,11)\n",
    "        self.relu2 = nn.ReLU() # activation\n",
    "        # Max pool 2\n",
    "        self.maxpool2 = nn.MaxPool2d(kernel_size=2,ceil_mode=True) #output_shape=(32,6,6)\n",
    "        # Fully connected 1 ,#input_shape=(32*6*6)\n",
    "        self.fc1 = nn.Linear(32 * 6 * 6, 10) \n",
    "      \n",
    "    \n",
    "    def forward(self, x):\n",
    "        # Convolution 1\n",
    "        out = self.cnn1(x)\n",
    "        out = self.relu1(out)\n",
    "        # Max pool 1\n",
    "        out = self.maxpool1(out)\n",
    "        # Convolution 2 \n",
    "        out = self.cnn2(out)\n",
    "        out = self.relu2(out)\n",
    "        # Max pool 2 \n",
    "        out = self.maxpool2(out)\n",
    "        out = out.view(out.size(0), -1)\n",
    "        # Linear function (readout)\n",
    "        out = self.fc1(out)\n",
    "        return out "
   ]
  },
  {
   "cell_type": "code",
   "execution_count": 6,
   "id": "cddbd109",
   "metadata": {},
   "outputs": [],
   "source": [
    "def fit_model(model, criterion, optimizer,epochs,train_loader,test_loader):\n",
    "    valid_loss_min = np.Inf\n",
    "    steps = 0\n",
    "    model.train() #prep model for training\n",
    "    train_losses, valid_losses = [],[]\n",
    "    training_accuracy, validation_accuracy = [],[]\n",
    "\n",
    "\n",
    "    for e in range(epochs):\n",
    "        running_loss =0 \n",
    "        valid_loss = 0\n",
    "\n",
    "        correct_train = 0\n",
    "        total_train = 0\n",
    "\n",
    "        for images, labels in train_loader:\n",
    "            images=images.to(device)\n",
    "            labels=labels.to(device)\n",
    "            optimizer.zero_grad()\n",
    "            log_ps = model(images)\n",
    "            loss = criterion(log_ps, labels)\n",
    "            loss.backward()\n",
    "            optimizer.step()\n",
    "            running_loss += loss.item()*images.size(0)\n",
    "\n",
    "\n",
    "            predicted = torch.max(log_ps.data, 1)[1]\n",
    "            total_train += len(labels)\n",
    "            correct_train += (predicted == labels).float().sum()\n",
    "\n",
    "        correct_test = 0\n",
    "        total_test = 0\n",
    "\n",
    "        for images, labels in valid_loader:\n",
    "            images=images.to(device)\n",
    "            labels=labels.to(device)\n",
    "            log_ps = model(images)\n",
    "            loss = criterion(log_ps, labels)\n",
    "            valid_loss += loss.item()*images.size(0)\n",
    "\n",
    "            predicted = torch.max(log_ps.data, 1)[1]\n",
    "            total_test += len(labels)  \n",
    "            correct_test += (predicted == labels).float().sum()\n",
    "\n",
    "        train_accuracy = 1 * correct_train / float(total_train)\n",
    "        val_accuracy = 1 * correct_test / float(total_test)\n",
    "        running_loss = running_loss/len(train_loader.sampler)\n",
    "        valid_loss =  valid_loss/len(valid_loader.sampler)\n",
    "\n",
    "        train_losses.append(running_loss)\n",
    "        valid_losses.append(valid_loss)\n",
    "        training_accuracy.append(train_accuracy)\n",
    "        validation_accuracy.append(val_accuracy)\n",
    "\n",
    "        print('Epoch: {} \\tTraining Loss: {:.6f} Validation Loss: {:.6f} Training acc: {:.6f} Validation acc: {:.6f}'.format(\n",
    "            e+1,\n",
    "            running_loss,\n",
    "            valid_loss,\n",
    "            train_accuracy,\n",
    "            val_accuracy\n",
    "        ))\n",
    "    return train_losses, training_accuracy, valid_losses, validation_accuracy       "
   ]
  },
  {
   "cell_type": "code",
   "execution_count": 10,
   "id": "ecf15d41",
   "metadata": {},
   "outputs": [],
   "source": [
    "def test(loaders, model, criterion, use_cuda):\n",
    "\n",
    "    # monitor test loss and accuracy\n",
    "    test_loss = 0.\n",
    "    correct = 0.\n",
    "    total = 0.\n",
    "\n",
    "    model.eval()\n",
    "    for batch_idx, (data, target) in enumerate(loaders):\n",
    "        # move to GPU\n",
    "        if use_cuda:\n",
    "            data, target = data.cuda(), target.cuda()\n",
    "        # forward pass: compute predicted outputs by passing inputs to the model\n",
    "        output = model(data)\n",
    "        # calculate the loss\n",
    "        loss = criterion(output, target)\n",
    "        # update average test loss \n",
    "        test_loss = test_loss + ((1 / (batch_idx + 1)) * (loss.data - test_loss))\n",
    "        # convert output probabilities to predicted class\n",
    "        pred = output.data.max(1, keepdim=True)[1]\n",
    "        # compare predictions to true label\n",
    "        correct += np.sum(np.squeeze(pred.eq(target.data.view_as(pred))).cpu().numpy())\n",
    "        total += data.size(0)\n",
    "            \n",
    "    print('Test Loss: {:.6f}'.format(test_loss))\n",
    "\n",
    "    print('Test Accuracy: %2d%% (%2d/%2d)' % (\n",
    "        100. * correct / total, correct, total))"
   ]
  },
  {
   "cell_type": "markdown",
   "id": "68a30967",
   "metadata": {},
   "source": [
    "# vgg16"
   ]
  },
  {
   "cell_type": "code",
   "execution_count": null,
   "id": "a85a27a4",
   "metadata": {},
   "outputs": [],
   "source": [
    "model = torch.hub.load('pytorch/vision:v0.10.0', 'vgg16', pretrained=True)\n",
    "model.eval()\n",
    "model.features[0] = nn.Conv2d(1,64,3,1,1)\n",
    "model=model.cuda()\n",
    "print(model)"
   ]
  },
  {
   "cell_type": "code",
   "execution_count": null,
   "id": "cccdba17",
   "metadata": {},
   "outputs": [],
   "source": [
    "from torchvision import models\n",
    "from torchsummary import summary\n",
    "summary(model, (1, 32, 32))"
   ]
  },
  {
   "cell_type": "markdown",
   "id": "6dcb62c1",
   "metadata": {},
   "source": [
    "# Resnet 18"
   ]
  },
  {
   "cell_type": "code",
   "execution_count": null,
   "id": "c5bd72ef",
   "metadata": {},
   "outputs": [],
   "source": [
    "model = torch.hub.load('pytorch/vision:v0.10.0', 'resnet18', pretrained=True)\n",
    "model.eval()\n",
    "model.conv1 = nn.Conv2d(1, 64, kernel_size=(7, 7), stride=(2, 2), padding=(3, 3), bias=False)\n",
    "model=model.cuda()"
   ]
  },
  {
   "cell_type": "code",
   "execution_count": null,
   "id": "83938573",
   "metadata": {},
   "outputs": [],
   "source": []
  },
  {
   "cell_type": "code",
   "execution_count": null,
   "id": "c1cd53a3",
   "metadata": {},
   "outputs": [],
   "source": []
  },
  {
   "cell_type": "code",
   "execution_count": null,
   "id": "83b32c27",
   "metadata": {},
   "outputs": [],
   "source": []
  }
 ],
 "metadata": {
  "kernelspec": {
   "display_name": "Python 3 (ipykernel)",
   "language": "python",
   "name": "python3"
  },
  "language_info": {
   "codemirror_mode": {
    "name": "ipython",
    "version": 3
   },
   "file_extension": ".py",
   "mimetype": "text/x-python",
   "name": "python",
   "nbconvert_exporter": "python",
   "pygments_lexer": "ipython3",
   "version": "3.7.6"
  }
 },
 "nbformat": 4,
 "nbformat_minor": 5
}
