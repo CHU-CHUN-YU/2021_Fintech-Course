{
 "cells": [
  {
   "cell_type": "markdown",
   "metadata": {},
   "source": [
    "# R10H41003-HW1-游筑鈞"
   ]
  },
  {
   "cell_type": "markdown",
   "metadata": {},
   "source": [
    "##  <font color=blue>Answer the questions marked blue boldface in my report, Thks.</font>"
   ]
  },
  {
   "cell_type": "code",
   "execution_count": 1,
   "metadata": {},
   "outputs": [],
   "source": [
    "import os, time, glob, socket\n",
    "import pandas as pd\n",
    "import numpy as np\n",
    "import matplotlib.pyplot as plt\n",
    "import random\n",
    "import csv\n",
    "import pickle\n",
    "path=os.getcwd()\n",
    "pd.set_option(\"display.max_columns\", None)\n",
    "import sys\n",
    "import warnings\n",
    "if not sys.warnoptions:\n",
    "    warnings.simplefilter(\"ignore\")"
   ]
  },
  {
   "cell_type": "markdown",
   "metadata": {},
   "source": [
    "### Read Data"
   ]
  },
  {
   "cell_type": "code",
   "execution_count": 2,
   "metadata": {
    "scrolled": true
   },
   "outputs": [
    {
     "name": "stdout",
     "output_type": "stream",
     "text": [
      "(1000, 19)\n",
      "(44, 18)\n"
     ]
    }
   ],
   "source": [
    "train = pd.read_csv(\"train.csv\") \n",
    "test= pd.read_csv(\"test_no_G3.csv\")\n",
    "\n",
    "con_var=[\"age\", \"studytime\", \"failures\", \"famrel\", \"freetime\", \"goout\", \"Dalc\", \"Walc\", \"health\", \"absences\"]\n",
    "binary_var=[\"school\",\"sex\",\"famsize\",\"activities\",\"higher\",\"internet\",\"romantic\"]\n",
    "\n",
    "ID=['ID']\n",
    "target=['G3']\n",
    "train=train[ID+target+con_var+binary_var]\n",
    "test=test[ID+con_var+binary_var]\n",
    "print(train.shape)\n",
    "print(test.shape)"
   ]
  },
  {
   "cell_type": "code",
   "execution_count": 3,
   "metadata": {},
   "outputs": [
    {
     "data": {
      "text/html": [
       "<div>\n",
       "<style scoped>\n",
       "    .dataframe tbody tr th:only-of-type {\n",
       "        vertical-align: middle;\n",
       "    }\n",
       "\n",
       "    .dataframe tbody tr th {\n",
       "        vertical-align: top;\n",
       "    }\n",
       "\n",
       "    .dataframe thead th {\n",
       "        text-align: right;\n",
       "    }\n",
       "</style>\n",
       "<table border=\"1\" class=\"dataframe\">\n",
       "  <thead>\n",
       "    <tr style=\"text-align: right;\">\n",
       "      <th></th>\n",
       "      <th>ID</th>\n",
       "      <th>G3</th>\n",
       "      <th>age</th>\n",
       "      <th>studytime</th>\n",
       "      <th>failures</th>\n",
       "      <th>famrel</th>\n",
       "      <th>freetime</th>\n",
       "      <th>goout</th>\n",
       "      <th>Dalc</th>\n",
       "      <th>Walc</th>\n",
       "      <th>health</th>\n",
       "      <th>absences</th>\n",
       "      <th>school</th>\n",
       "      <th>sex</th>\n",
       "      <th>famsize</th>\n",
       "      <th>activities</th>\n",
       "      <th>higher</th>\n",
       "      <th>internet</th>\n",
       "      <th>romantic</th>\n",
       "    </tr>\n",
       "  </thead>\n",
       "  <tbody>\n",
       "    <tr>\n",
       "      <th>0</th>\n",
       "      <td>1</td>\n",
       "      <td>18</td>\n",
       "      <td>16</td>\n",
       "      <td>2</td>\n",
       "      <td>0</td>\n",
       "      <td>4</td>\n",
       "      <td>3</td>\n",
       "      <td>2</td>\n",
       "      <td>1</td>\n",
       "      <td>1</td>\n",
       "      <td>3</td>\n",
       "      <td>0</td>\n",
       "      <td>GP</td>\n",
       "      <td>M</td>\n",
       "      <td>GT3</td>\n",
       "      <td>yes</td>\n",
       "      <td>yes</td>\n",
       "      <td>yes</td>\n",
       "      <td>yes</td>\n",
       "    </tr>\n",
       "    <tr>\n",
       "      <th>1</th>\n",
       "      <td>2</td>\n",
       "      <td>10</td>\n",
       "      <td>17</td>\n",
       "      <td>1</td>\n",
       "      <td>0</td>\n",
       "      <td>5</td>\n",
       "      <td>5</td>\n",
       "      <td>5</td>\n",
       "      <td>3</td>\n",
       "      <td>5</td>\n",
       "      <td>5</td>\n",
       "      <td>0</td>\n",
       "      <td>MS</td>\n",
       "      <td>M</td>\n",
       "      <td>GT3</td>\n",
       "      <td>yes</td>\n",
       "      <td>no</td>\n",
       "      <td>no</td>\n",
       "      <td>yes</td>\n",
       "    </tr>\n",
       "    <tr>\n",
       "      <th>2</th>\n",
       "      <td>3</td>\n",
       "      <td>11</td>\n",
       "      <td>17</td>\n",
       "      <td>3</td>\n",
       "      <td>0</td>\n",
       "      <td>4</td>\n",
       "      <td>2</td>\n",
       "      <td>2</td>\n",
       "      <td>2</td>\n",
       "      <td>3</td>\n",
       "      <td>5</td>\n",
       "      <td>10</td>\n",
       "      <td>GP</td>\n",
       "      <td>F</td>\n",
       "      <td>GT3</td>\n",
       "      <td>no</td>\n",
       "      <td>yes</td>\n",
       "      <td>yes</td>\n",
       "      <td>yes</td>\n",
       "    </tr>\n",
       "    <tr>\n",
       "      <th>3</th>\n",
       "      <td>4</td>\n",
       "      <td>8</td>\n",
       "      <td>16</td>\n",
       "      <td>2</td>\n",
       "      <td>0</td>\n",
       "      <td>3</td>\n",
       "      <td>4</td>\n",
       "      <td>3</td>\n",
       "      <td>2</td>\n",
       "      <td>3</td>\n",
       "      <td>3</td>\n",
       "      <td>10</td>\n",
       "      <td>GP</td>\n",
       "      <td>M</td>\n",
       "      <td>GT3</td>\n",
       "      <td>yes</td>\n",
       "      <td>yes</td>\n",
       "      <td>yes</td>\n",
       "      <td>no</td>\n",
       "    </tr>\n",
       "    <tr>\n",
       "      <th>4</th>\n",
       "      <td>5</td>\n",
       "      <td>16</td>\n",
       "      <td>15</td>\n",
       "      <td>2</td>\n",
       "      <td>0</td>\n",
       "      <td>4</td>\n",
       "      <td>5</td>\n",
       "      <td>2</td>\n",
       "      <td>1</td>\n",
       "      <td>1</td>\n",
       "      <td>5</td>\n",
       "      <td>0</td>\n",
       "      <td>GP</td>\n",
       "      <td>M</td>\n",
       "      <td>GT3</td>\n",
       "      <td>yes</td>\n",
       "      <td>yes</td>\n",
       "      <td>yes</td>\n",
       "      <td>yes</td>\n",
       "    </tr>\n",
       "  </tbody>\n",
       "</table>\n",
       "</div>"
      ],
      "text/plain": [
       "   ID  G3  age  studytime  failures  famrel  freetime  goout  Dalc  Walc  \\\n",
       "0   1  18   16          2         0       4         3      2     1     1   \n",
       "1   2  10   17          1         0       5         5      5     3     5   \n",
       "2   3  11   17          3         0       4         2      2     2     3   \n",
       "3   4   8   16          2         0       3         4      3     2     3   \n",
       "4   5  16   15          2         0       4         5      2     1     1   \n",
       "\n",
       "   health  absences school sex famsize activities higher internet romantic  \n",
       "0       3         0     GP   M     GT3        yes    yes      yes      yes  \n",
       "1       5         0     MS   M     GT3        yes     no       no      yes  \n",
       "2       5        10     GP   F     GT3         no    yes      yes      yes  \n",
       "3       3        10     GP   M     GT3        yes    yes      yes       no  \n",
       "4       5         0     GP   M     GT3        yes    yes      yes      yes  "
      ]
     },
     "execution_count": 3,
     "metadata": {},
     "output_type": "execute_result"
    }
   ],
   "source": [
    "train.head()"
   ]
  },
  {
   "cell_type": "markdown",
   "metadata": {},
   "source": [
    "### Transform binary columns to one-hot encoding vectors"
   ]
  },
  {
   "cell_type": "code",
   "execution_count": 4,
   "metadata": {},
   "outputs": [],
   "source": [
    "train=pd.concat([train[ID+target+con_var],pd.DataFrame(pd.get_dummies(train[binary_var]))],axis=1) \n",
    "test=pd.concat([test[ID+con_var],pd.DataFrame(pd.get_dummies(test[binary_var]))],axis=1) "
   ]
  },
  {
   "cell_type": "code",
   "execution_count": 5,
   "metadata": {},
   "outputs": [
    {
     "data": {
      "text/html": [
       "<div>\n",
       "<style scoped>\n",
       "    .dataframe tbody tr th:only-of-type {\n",
       "        vertical-align: middle;\n",
       "    }\n",
       "\n",
       "    .dataframe tbody tr th {\n",
       "        vertical-align: top;\n",
       "    }\n",
       "\n",
       "    .dataframe thead th {\n",
       "        text-align: right;\n",
       "    }\n",
       "</style>\n",
       "<table border=\"1\" class=\"dataframe\">\n",
       "  <thead>\n",
       "    <tr style=\"text-align: right;\">\n",
       "      <th></th>\n",
       "      <th>ID</th>\n",
       "      <th>G3</th>\n",
       "      <th>age</th>\n",
       "      <th>studytime</th>\n",
       "      <th>failures</th>\n",
       "      <th>famrel</th>\n",
       "      <th>freetime</th>\n",
       "      <th>goout</th>\n",
       "      <th>Dalc</th>\n",
       "      <th>Walc</th>\n",
       "      <th>health</th>\n",
       "      <th>absences</th>\n",
       "      <th>school_GP</th>\n",
       "      <th>school_MS</th>\n",
       "      <th>sex_F</th>\n",
       "      <th>sex_M</th>\n",
       "      <th>famsize_GT3</th>\n",
       "      <th>famsize_LE3</th>\n",
       "      <th>activities_no</th>\n",
       "      <th>activities_yes</th>\n",
       "      <th>higher_no</th>\n",
       "      <th>higher_yes</th>\n",
       "      <th>internet_no</th>\n",
       "      <th>internet_yes</th>\n",
       "      <th>romantic_no</th>\n",
       "      <th>romantic_yes</th>\n",
       "    </tr>\n",
       "  </thead>\n",
       "  <tbody>\n",
       "    <tr>\n",
       "      <th>0</th>\n",
       "      <td>1</td>\n",
       "      <td>18</td>\n",
       "      <td>16</td>\n",
       "      <td>2</td>\n",
       "      <td>0</td>\n",
       "      <td>4</td>\n",
       "      <td>3</td>\n",
       "      <td>2</td>\n",
       "      <td>1</td>\n",
       "      <td>1</td>\n",
       "      <td>3</td>\n",
       "      <td>0</td>\n",
       "      <td>1</td>\n",
       "      <td>0</td>\n",
       "      <td>0</td>\n",
       "      <td>1</td>\n",
       "      <td>1</td>\n",
       "      <td>0</td>\n",
       "      <td>0</td>\n",
       "      <td>1</td>\n",
       "      <td>0</td>\n",
       "      <td>1</td>\n",
       "      <td>0</td>\n",
       "      <td>1</td>\n",
       "      <td>0</td>\n",
       "      <td>1</td>\n",
       "    </tr>\n",
       "    <tr>\n",
       "      <th>1</th>\n",
       "      <td>2</td>\n",
       "      <td>10</td>\n",
       "      <td>17</td>\n",
       "      <td>1</td>\n",
       "      <td>0</td>\n",
       "      <td>5</td>\n",
       "      <td>5</td>\n",
       "      <td>5</td>\n",
       "      <td>3</td>\n",
       "      <td>5</td>\n",
       "      <td>5</td>\n",
       "      <td>0</td>\n",
       "      <td>0</td>\n",
       "      <td>1</td>\n",
       "      <td>0</td>\n",
       "      <td>1</td>\n",
       "      <td>1</td>\n",
       "      <td>0</td>\n",
       "      <td>0</td>\n",
       "      <td>1</td>\n",
       "      <td>1</td>\n",
       "      <td>0</td>\n",
       "      <td>1</td>\n",
       "      <td>0</td>\n",
       "      <td>0</td>\n",
       "      <td>1</td>\n",
       "    </tr>\n",
       "    <tr>\n",
       "      <th>2</th>\n",
       "      <td>3</td>\n",
       "      <td>11</td>\n",
       "      <td>17</td>\n",
       "      <td>3</td>\n",
       "      <td>0</td>\n",
       "      <td>4</td>\n",
       "      <td>2</td>\n",
       "      <td>2</td>\n",
       "      <td>2</td>\n",
       "      <td>3</td>\n",
       "      <td>5</td>\n",
       "      <td>10</td>\n",
       "      <td>1</td>\n",
       "      <td>0</td>\n",
       "      <td>1</td>\n",
       "      <td>0</td>\n",
       "      <td>1</td>\n",
       "      <td>0</td>\n",
       "      <td>1</td>\n",
       "      <td>0</td>\n",
       "      <td>0</td>\n",
       "      <td>1</td>\n",
       "      <td>0</td>\n",
       "      <td>1</td>\n",
       "      <td>0</td>\n",
       "      <td>1</td>\n",
       "    </tr>\n",
       "    <tr>\n",
       "      <th>3</th>\n",
       "      <td>4</td>\n",
       "      <td>8</td>\n",
       "      <td>16</td>\n",
       "      <td>2</td>\n",
       "      <td>0</td>\n",
       "      <td>3</td>\n",
       "      <td>4</td>\n",
       "      <td>3</td>\n",
       "      <td>2</td>\n",
       "      <td>3</td>\n",
       "      <td>3</td>\n",
       "      <td>10</td>\n",
       "      <td>1</td>\n",
       "      <td>0</td>\n",
       "      <td>0</td>\n",
       "      <td>1</td>\n",
       "      <td>1</td>\n",
       "      <td>0</td>\n",
       "      <td>0</td>\n",
       "      <td>1</td>\n",
       "      <td>0</td>\n",
       "      <td>1</td>\n",
       "      <td>0</td>\n",
       "      <td>1</td>\n",
       "      <td>1</td>\n",
       "      <td>0</td>\n",
       "    </tr>\n",
       "    <tr>\n",
       "      <th>4</th>\n",
       "      <td>5</td>\n",
       "      <td>16</td>\n",
       "      <td>15</td>\n",
       "      <td>2</td>\n",
       "      <td>0</td>\n",
       "      <td>4</td>\n",
       "      <td>5</td>\n",
       "      <td>2</td>\n",
       "      <td>1</td>\n",
       "      <td>1</td>\n",
       "      <td>5</td>\n",
       "      <td>0</td>\n",
       "      <td>1</td>\n",
       "      <td>0</td>\n",
       "      <td>0</td>\n",
       "      <td>1</td>\n",
       "      <td>1</td>\n",
       "      <td>0</td>\n",
       "      <td>0</td>\n",
       "      <td>1</td>\n",
       "      <td>0</td>\n",
       "      <td>1</td>\n",
       "      <td>0</td>\n",
       "      <td>1</td>\n",
       "      <td>0</td>\n",
       "      <td>1</td>\n",
       "    </tr>\n",
       "  </tbody>\n",
       "</table>\n",
       "</div>"
      ],
      "text/plain": [
       "   ID  G3  age  studytime  failures  famrel  freetime  goout  Dalc  Walc  \\\n",
       "0   1  18   16          2         0       4         3      2     1     1   \n",
       "1   2  10   17          1         0       5         5      5     3     5   \n",
       "2   3  11   17          3         0       4         2      2     2     3   \n",
       "3   4   8   16          2         0       3         4      3     2     3   \n",
       "4   5  16   15          2         0       4         5      2     1     1   \n",
       "\n",
       "   health  absences  school_GP  school_MS  sex_F  sex_M  famsize_GT3  \\\n",
       "0       3         0          1          0      0      1            1   \n",
       "1       5         0          0          1      0      1            1   \n",
       "2       5        10          1          0      1      0            1   \n",
       "3       3        10          1          0      0      1            1   \n",
       "4       5         0          1          0      0      1            1   \n",
       "\n",
       "   famsize_LE3  activities_no  activities_yes  higher_no  higher_yes  \\\n",
       "0            0              0               1          0           1   \n",
       "1            0              0               1          1           0   \n",
       "2            0              1               0          0           1   \n",
       "3            0              0               1          0           1   \n",
       "4            0              0               1          0           1   \n",
       "\n",
       "   internet_no  internet_yes  romantic_no  romantic_yes  \n",
       "0            0             1            0             1  \n",
       "1            1             0            0             1  \n",
       "2            0             1            0             1  \n",
       "3            0             1            1             0  \n",
       "4            0             1            0             1  "
      ]
     },
     "execution_count": 5,
     "metadata": {},
     "output_type": "execute_result"
    }
   ],
   "source": [
    "train.head()"
   ]
  },
  {
   "cell_type": "markdown",
   "metadata": {},
   "source": [
    "### (a)-1  Split train.csv into training set (80%) and validation set (20%)"
   ]
  },
  {
   "cell_type": "code",
   "execution_count": 6,
   "metadata": {},
   "outputs": [],
   "source": [
    "def train_valid_split(train,p):\n",
    "    SRS_index=random.sample(range(0,train.shape[0]),int(train.shape[0]*p))\n",
    "    training_set=train[train.index.isin (SRS_index)]\n",
    "    validation_set=train[~train.index.isin (SRS_index)]\n",
    "    return(training_set,validation_set)    "
   ]
  },
  {
   "cell_type": "code",
   "execution_count": 7,
   "metadata": {},
   "outputs": [
    {
     "name": "stdout",
     "output_type": "stream",
     "text": [
      "(800, 26)\n",
      "(200, 26)\n"
     ]
    }
   ],
   "source": [
    "random.seed(11)\n",
    "p=0.8\n",
    "training_set,validation_set=train_valid_split(train,p)\n",
    "\n",
    "print(training_set.shape)\n",
    "print(validation_set.shape)"
   ]
  },
  {
   "cell_type": "markdown",
   "metadata": {},
   "source": [
    "### <font color=red> Please elaborate on how you obtain your training and test sets in your report.</font>"
   ]
  },
  {
   "cell_type": "markdown",
   "metadata": {},
   "source": [
    "### <font color=blue> train 裡面總共有1000筆資料，index 從 0-999。利用簡單隨機抽樣，從0-999中隨機抽取(1000*0.8)個row， 當作 training set，其餘的row則為validation set </font>"
   ]
  },
  {
   "cell_type": "markdown",
   "metadata": {},
   "source": [
    "### (a)-2 Normalization\n"
   ]
  },
  {
   "cell_type": "code",
   "execution_count": 8,
   "metadata": {},
   "outputs": [],
   "source": [
    "#選擇需要 normalized 的變數。 除了 G3 and ID，其他都 Normalization\n",
    "tra_X_mean=training_set[training_set.columns[2:]].mean(axis=0) \n",
    "tra_X_std=training_set[training_set.columns[2:]].std(axis=0)"
   ]
  },
  {
   "cell_type": "code",
   "execution_count": 9,
   "metadata": {},
   "outputs": [],
   "source": [
    "def Normalization(training_set,validation_set,test,tra_X_mean,tra_X_std):\n",
    "    training_set_N=training_set\n",
    "    validation_set_N=validation_set\n",
    "    test_N=test\n",
    "    \n",
    "    for i in range(0,len(tra_X_mean.index)):\n",
    "        training_set_N[tra_X_mean.index[i]]=(training_set[tra_X_mean.index[i]]-tra_X_mean[i])/tra_X_std[i]\n",
    "        validation_set_N[tra_X_mean.index[i]]=(validation_set[tra_X_mean.index[i]]-tra_X_mean[i])/tra_X_std[i]\n",
    "        test_N[tra_X_mean.index[i]]=(test[tra_X_mean.index[i]]-tra_X_mean[i])/tra_X_std[i]\n",
    "\n",
    "    return(training_set_N, validation_set_N,test_N)    "
   ]
  },
  {
   "cell_type": "code",
   "execution_count": 10,
   "metadata": {
    "scrolled": false
   },
   "outputs": [],
   "source": [
    "training_set_N, validation_set_N,test_N=Normalization(training_set,validation_set,test,tra_X_mean,tra_X_std)"
   ]
  },
  {
   "cell_type": "code",
   "execution_count": 11,
   "metadata": {},
   "outputs": [
    {
     "data": {
      "text/html": [
       "<div>\n",
       "<style scoped>\n",
       "    .dataframe tbody tr th:only-of-type {\n",
       "        vertical-align: middle;\n",
       "    }\n",
       "\n",
       "    .dataframe tbody tr th {\n",
       "        vertical-align: top;\n",
       "    }\n",
       "\n",
       "    .dataframe thead th {\n",
       "        text-align: right;\n",
       "    }\n",
       "</style>\n",
       "<table border=\"1\" class=\"dataframe\">\n",
       "  <thead>\n",
       "    <tr style=\"text-align: right;\">\n",
       "      <th></th>\n",
       "      <th>ID</th>\n",
       "      <th>G3</th>\n",
       "      <th>age</th>\n",
       "      <th>studytime</th>\n",
       "      <th>failures</th>\n",
       "      <th>famrel</th>\n",
       "      <th>freetime</th>\n",
       "      <th>goout</th>\n",
       "      <th>Dalc</th>\n",
       "      <th>Walc</th>\n",
       "      <th>health</th>\n",
       "      <th>absences</th>\n",
       "      <th>school_GP</th>\n",
       "      <th>school_MS</th>\n",
       "      <th>sex_F</th>\n",
       "      <th>sex_M</th>\n",
       "      <th>famsize_GT3</th>\n",
       "      <th>famsize_LE3</th>\n",
       "      <th>activities_no</th>\n",
       "      <th>activities_yes</th>\n",
       "      <th>higher_no</th>\n",
       "      <th>higher_yes</th>\n",
       "      <th>internet_no</th>\n",
       "      <th>internet_yes</th>\n",
       "      <th>romantic_no</th>\n",
       "      <th>romantic_yes</th>\n",
       "    </tr>\n",
       "  </thead>\n",
       "  <tbody>\n",
       "    <tr>\n",
       "      <th>0</th>\n",
       "      <td>1</td>\n",
       "      <td>18</td>\n",
       "      <td>-0.590675</td>\n",
       "      <td>0.011658</td>\n",
       "      <td>-0.392305</td>\n",
       "      <td>0.117200</td>\n",
       "      <td>-0.203092</td>\n",
       "      <td>-1.003039</td>\n",
       "      <td>-0.532798</td>\n",
       "      <td>-0.978107</td>\n",
       "      <td>-0.363853</td>\n",
       "      <td>-0.718383</td>\n",
       "      <td>0.588530</td>\n",
       "      <td>-0.588530</td>\n",
       "      <td>-1.150619</td>\n",
       "      <td>1.150619</td>\n",
       "      <td>0.646465</td>\n",
       "      <td>-0.646465</td>\n",
       "      <td>-1.017020</td>\n",
       "      <td>1.017020</td>\n",
       "      <td>-0.304598</td>\n",
       "      <td>0.304598</td>\n",
       "      <td>-0.530753</td>\n",
       "      <td>0.530753</td>\n",
       "      <td>-1.354468</td>\n",
       "      <td>1.354468</td>\n",
       "    </tr>\n",
       "    <tr>\n",
       "      <th>3</th>\n",
       "      <td>4</td>\n",
       "      <td>8</td>\n",
       "      <td>-0.590675</td>\n",
       "      <td>0.011658</td>\n",
       "      <td>-0.392305</td>\n",
       "      <td>-0.913132</td>\n",
       "      <td>0.769804</td>\n",
       "      <td>-0.141137</td>\n",
       "      <td>0.606877</td>\n",
       "      <td>0.605872</td>\n",
       "      <td>-0.363853</td>\n",
       "      <td>0.899597</td>\n",
       "      <td>0.588530</td>\n",
       "      <td>-0.588530</td>\n",
       "      <td>-1.150619</td>\n",
       "      <td>1.150619</td>\n",
       "      <td>0.646465</td>\n",
       "      <td>-0.646465</td>\n",
       "      <td>-1.017020</td>\n",
       "      <td>1.017020</td>\n",
       "      <td>-0.304598</td>\n",
       "      <td>0.304598</td>\n",
       "      <td>-0.530753</td>\n",
       "      <td>0.530753</td>\n",
       "      <td>0.737374</td>\n",
       "      <td>-0.737374</td>\n",
       "    </tr>\n",
       "    <tr>\n",
       "      <th>4</th>\n",
       "      <td>5</td>\n",
       "      <td>16</td>\n",
       "      <td>-1.397057</td>\n",
       "      <td>0.011658</td>\n",
       "      <td>-0.392305</td>\n",
       "      <td>0.117200</td>\n",
       "      <td>1.742700</td>\n",
       "      <td>-1.003039</td>\n",
       "      <td>-0.532798</td>\n",
       "      <td>-0.978107</td>\n",
       "      <td>1.025563</td>\n",
       "      <td>-0.718383</td>\n",
       "      <td>0.588530</td>\n",
       "      <td>-0.588530</td>\n",
       "      <td>-1.150619</td>\n",
       "      <td>1.150619</td>\n",
       "      <td>0.646465</td>\n",
       "      <td>-0.646465</td>\n",
       "      <td>-1.017020</td>\n",
       "      <td>1.017020</td>\n",
       "      <td>-0.304598</td>\n",
       "      <td>0.304598</td>\n",
       "      <td>-0.530753</td>\n",
       "      <td>0.530753</td>\n",
       "      <td>-1.354468</td>\n",
       "      <td>1.354468</td>\n",
       "    </tr>\n",
       "    <tr>\n",
       "      <th>5</th>\n",
       "      <td>6</td>\n",
       "      <td>10</td>\n",
       "      <td>1.828471</td>\n",
       "      <td>-1.154116</td>\n",
       "      <td>1.161379</td>\n",
       "      <td>0.117200</td>\n",
       "      <td>0.769804</td>\n",
       "      <td>0.720766</td>\n",
       "      <td>1.746552</td>\n",
       "      <td>0.605872</td>\n",
       "      <td>1.025563</td>\n",
       "      <td>-0.071191</td>\n",
       "      <td>-1.697024</td>\n",
       "      <td>1.697024</td>\n",
       "      <td>-1.150619</td>\n",
       "      <td>1.150619</td>\n",
       "      <td>0.646465</td>\n",
       "      <td>-0.646465</td>\n",
       "      <td>0.982036</td>\n",
       "      <td>-0.982036</td>\n",
       "      <td>-0.304598</td>\n",
       "      <td>0.304598</td>\n",
       "      <td>-0.530753</td>\n",
       "      <td>0.530753</td>\n",
       "      <td>0.737374</td>\n",
       "      <td>-0.737374</td>\n",
       "    </tr>\n",
       "    <tr>\n",
       "      <th>6</th>\n",
       "      <td>7</td>\n",
       "      <td>11</td>\n",
       "      <td>-1.397057</td>\n",
       "      <td>0.011658</td>\n",
       "      <td>-0.392305</td>\n",
       "      <td>1.147532</td>\n",
       "      <td>0.769804</td>\n",
       "      <td>-1.003039</td>\n",
       "      <td>1.746552</td>\n",
       "      <td>1.397861</td>\n",
       "      <td>1.025563</td>\n",
       "      <td>-0.718383</td>\n",
       "      <td>0.588530</td>\n",
       "      <td>-0.588530</td>\n",
       "      <td>-1.150619</td>\n",
       "      <td>1.150619</td>\n",
       "      <td>0.646465</td>\n",
       "      <td>-0.646465</td>\n",
       "      <td>0.982036</td>\n",
       "      <td>-0.982036</td>\n",
       "      <td>-0.304598</td>\n",
       "      <td>0.304598</td>\n",
       "      <td>-0.530753</td>\n",
       "      <td>0.530753</td>\n",
       "      <td>0.737374</td>\n",
       "      <td>-0.737374</td>\n",
       "    </tr>\n",
       "  </tbody>\n",
       "</table>\n",
       "</div>"
      ],
      "text/plain": [
       "   ID  G3       age  studytime  failures    famrel  freetime     goout  \\\n",
       "0   1  18 -0.590675   0.011658 -0.392305  0.117200 -0.203092 -1.003039   \n",
       "3   4   8 -0.590675   0.011658 -0.392305 -0.913132  0.769804 -0.141137   \n",
       "4   5  16 -1.397057   0.011658 -0.392305  0.117200  1.742700 -1.003039   \n",
       "5   6  10  1.828471  -1.154116  1.161379  0.117200  0.769804  0.720766   \n",
       "6   7  11 -1.397057   0.011658 -0.392305  1.147532  0.769804 -1.003039   \n",
       "\n",
       "       Dalc      Walc    health  absences  school_GP  school_MS     sex_F  \\\n",
       "0 -0.532798 -0.978107 -0.363853 -0.718383   0.588530  -0.588530 -1.150619   \n",
       "3  0.606877  0.605872 -0.363853  0.899597   0.588530  -0.588530 -1.150619   \n",
       "4 -0.532798 -0.978107  1.025563 -0.718383   0.588530  -0.588530 -1.150619   \n",
       "5  1.746552  0.605872  1.025563 -0.071191  -1.697024   1.697024 -1.150619   \n",
       "6  1.746552  1.397861  1.025563 -0.718383   0.588530  -0.588530 -1.150619   \n",
       "\n",
       "      sex_M  famsize_GT3  famsize_LE3  activities_no  activities_yes  \\\n",
       "0  1.150619     0.646465    -0.646465      -1.017020        1.017020   \n",
       "3  1.150619     0.646465    -0.646465      -1.017020        1.017020   \n",
       "4  1.150619     0.646465    -0.646465      -1.017020        1.017020   \n",
       "5  1.150619     0.646465    -0.646465       0.982036       -0.982036   \n",
       "6  1.150619     0.646465    -0.646465       0.982036       -0.982036   \n",
       "\n",
       "   higher_no  higher_yes  internet_no  internet_yes  romantic_no  romantic_yes  \n",
       "0  -0.304598    0.304598    -0.530753      0.530753    -1.354468      1.354468  \n",
       "3  -0.304598    0.304598    -0.530753      0.530753     0.737374     -0.737374  \n",
       "4  -0.304598    0.304598    -0.530753      0.530753    -1.354468      1.354468  \n",
       "5  -0.304598    0.304598    -0.530753      0.530753     0.737374     -0.737374  \n",
       "6  -0.304598    0.304598    -0.530753      0.530753     0.737374     -0.737374  "
      ]
     },
     "execution_count": 11,
     "metadata": {},
     "output_type": "execute_result"
    }
   ],
   "source": [
    "training_set_N.head()"
   ]
  },
  {
   "cell_type": "markdown",
   "metadata": {},
   "source": [
    "### (b) (10%) Implement a linear regression model without the bias term to predict G3. Use pseudo_inverse to obtain the weights.   Record the root mean squared error (RMSE) of the test set ( validation_set ). \n"
   ]
  },
  {
   "cell_type": "markdown",
   "metadata": {},
   "source": [
    "$X^{+}=(X^{T}X)^{-1}X^{T}$\n",
    " \n",
    "$\\hat{w}_{pin}=X^{+}y$ \n",
    "\n",
    "$\\hat{y}=\\hat{w}_{pin}^{T}X$\n"
   ]
  },
  {
   "cell_type": "code",
   "execution_count": 12,
   "metadata": {
    "scrolled": true
   },
   "outputs": [],
   "source": [
    "# training set\n",
    "X_train=np.concatenate(([np.matrix(training_set_N[training_set.columns[col]]).T \n",
    "                         for col in range(2,len(training_set.columns))]),axis=1)\n",
    "\n",
    "y_train=np.matrix(training_set_N[target])"
   ]
  },
  {
   "cell_type": "code",
   "execution_count": 13,
   "metadata": {},
   "outputs": [],
   "source": [
    "#  validation set\n",
    "\n",
    "X_val=np.concatenate(([np.matrix(validation_set_N[validation_set_N.columns[col]]).T \n",
    "                       for col in range(2,len(validation_set_N.columns))]),axis=1)\n",
    "y_val=np.asarray(validation_set[target]).reshape(-1)"
   ]
  },
  {
   "cell_type": "code",
   "execution_count": 14,
   "metadata": {},
   "outputs": [],
   "source": [
    "def LR(X,Y):\n",
    "    w=np.dot(np.linalg.pinv(X),Y)\n",
    "    y_hat=np.matmul(X,w)\n",
    "    return(w,y_hat)"
   ]
  },
  {
   "cell_type": "markdown",
   "metadata": {},
   "source": [
    "$RMSE=\\sqrt{\\frac{1}{n}\\sum^{i=1}_{n}{(y_i-\\hat{y}_i)^{2}}}$"
   ]
  },
  {
   "cell_type": "code",
   "execution_count": 15,
   "metadata": {},
   "outputs": [],
   "source": [
    "def RMSE(Y_true,Y_pred):\n",
    "    Y_pred=np.asarray(Y_pred).reshape(-1)\n",
    "    Y_true=np.asarray(Y_true).reshape(-1)\n",
    "    rmse=np.sqrt(np.mean(np.square(Y_pred-Y_true)))\n",
    "    return(rmse)"
   ]
  },
  {
   "cell_type": "code",
   "execution_count": 16,
   "metadata": {},
   "outputs": [],
   "source": [
    "w,y_hat=LR(X_train,y_train)\n",
    "y_pred_LR=np.matmul(X_val,w)"
   ]
  },
  {
   "cell_type": "markdown",
   "metadata": {},
   "source": [
    "### <span style='background:yellow'><font color=blue> RMSE of the validation_set</font></span>"
   ]
  },
  {
   "cell_type": "code",
   "execution_count": 17,
   "metadata": {},
   "outputs": [
    {
     "data": {
      "text/plain": [
       "11.903739629313966"
      ]
     },
     "execution_count": 17,
     "metadata": {},
     "output_type": "execute_result"
    }
   ],
   "source": [
    "RMSE(y_val,y_pred_LR)"
   ]
  },
  {
   "cell_type": "markdown",
   "metadata": {},
   "source": [
    "### (c)  Regularization for linear regression model , without the bias term"
   ]
  },
  {
   "cell_type": "markdown",
   "metadata": {},
   "source": [
    "$J(w)=MSE_{train}+\\frac{\\lambda}{2}w^Tw$"
   ]
  },
  {
   "cell_type": "markdown",
   "metadata": {},
   "source": [
    "$\\hat{w}=\\arg{min\\left\\{\\,\\sum_{i=1}^{N}(\\,{y_i-w_0-\\sum_{j=1}^{p}}x_{ij}w_j)^2+\\frac{1}{2}\\sum_{j=1}^{p}{w_j^2}\\,\\right\\}}$ 、 $w_0=0$、$\\lambda=1$"
   ]
  },
  {
   "cell_type": "markdown",
   "metadata": {},
   "source": [
    "### <font color=red> Please describe how to find the optimal weights in your report. </font>"
   ]
  },
  {
   "cell_type": "markdown",
   "metadata": {},
   "source": [
    "\n",
    "####  <font color=blue> $\\hat{w}_{ridge}=\\arg{ min\\left[ (Y-Xw)^{T}(y-Xw)+\\frac{\\lambda}{2}w^Tw\\right ]}$</font>"
   ]
  },
  {
   "cell_type": "markdown",
   "metadata": {},
   "source": [
    "\n",
    "####  <font color=blue> we can solve for $\\hat{w}_{ridge}$ in close form</font>"
   ]
  },
  {
   "cell_type": "markdown",
   "metadata": {},
   "source": [
    "\n",
    "####  <font color=blue>$\\frac{\\partial}{\\partial \\hat{w}}\\left(Y^TY-2\\hat{w}^TX^TY+\\hat{w}^TX^TX\\hat{w}+\\frac{\\lambda}{2}\\hat{w}^T\\hat{w}\\right)=-2X^TY+2X^TX\\hat{w}+\\lambda \\hat{w} \\rightarrow 0$ </font>"
   ]
  },
  {
   "cell_type": "markdown",
   "metadata": {},
   "source": [
    "#### <font color=blue>$2X^TX\\hat{w}+\\lambda\\hat{w}=2X^TY \\Rightarrow (X^TX+I\\frac{\\lambda}{2})\\hat{w}=X^TY \\Rightarrow \\hat{w}=(X^TX+I\\frac{\\lambda}{2})^{-1}X^TY$ </font>"
   ]
  },
  {
   "cell_type": "markdown",
   "metadata": {},
   "source": [
    "\n",
    "#### - <font color=blue> OLS estimator : $\\hat{w}=(X^{'}X)^{-1}X^{'}Y$\n",
    "#### - <font color=blue> Ridge estimator : $\\hat{w}_{ridge}=(X^{'}X+\\frac{\\lambda}{2} I_p)^{-1}X^{'}Y$ </font>   "
   ]
  },
  {
   "cell_type": "code",
   "execution_count": 18,
   "metadata": {},
   "outputs": [],
   "source": [
    "def LR_Regularization(X,Y,lamb):\n",
    "    w=np.linalg.inv((X.T*X)+(lamb/2)*(np.identity(X.shape[1])))*X.T*Y\n",
    "    y_hat=np.matmul(X,w)\n",
    "    return(w,y_hat)"
   ]
  },
  {
   "cell_type": "code",
   "execution_count": 19,
   "metadata": {},
   "outputs": [],
   "source": [
    "w,y_hat=LR_Regularization(X_train,y_train,lamb=1)\n",
    "y_pred_LR_re_no_bias=np.matmul(X_val,w)"
   ]
  },
  {
   "cell_type": "markdown",
   "metadata": {},
   "source": [
    "### <span style='background:yellow'><font color=blue> RMSE of the validation_set</font></span>"
   ]
  },
  {
   "cell_type": "code",
   "execution_count": 20,
   "metadata": {},
   "outputs": [
    {
     "data": {
      "text/plain": [
       "11.903617957235408"
      ]
     },
     "execution_count": 20,
     "metadata": {},
     "output_type": "execute_result"
    }
   ],
   "source": [
    "RMSE(y_val,y_pred_LR_re_no_bias)"
   ]
  },
  {
   "cell_type": "markdown",
   "metadata": {},
   "source": [
    "### (d) Repeat (c) but include the bias term in your model."
   ]
  },
  {
   "cell_type": "code",
   "execution_count": 21,
   "metadata": {},
   "outputs": [],
   "source": [
    "# Add the bias term\n",
    "X_train_int=np.concatenate((np.matrix(np.ones(X_train.shape[0])).T,X_train),axis=1)\n",
    "X_val_int=np.concatenate((np.matrix(np.ones(X_val.shape[0])).T,X_val),axis=1)"
   ]
  },
  {
   "cell_type": "code",
   "execution_count": 22,
   "metadata": {},
   "outputs": [],
   "source": [
    "w,y_hat=LR_Regularization(X_train_int,y_train,lamb=1)\n",
    "y_pred_LR_re_bias=np.matmul(X_val_int,w)"
   ]
  },
  {
   "cell_type": "markdown",
   "metadata": {},
   "source": [
    "### <span style='background:yellow'><font color=blue> RMSE of the validation_set</font></span>"
   ]
  },
  {
   "cell_type": "code",
   "execution_count": 23,
   "metadata": {},
   "outputs": [
    {
     "data": {
      "text/plain": [
       "3.6192716564208585"
      ]
     },
     "execution_count": 23,
     "metadata": {},
     "output_type": "execute_result"
    }
   ],
   "source": [
    "RMSE(y_val,y_pred_LR_re_bias)"
   ]
  },
  {
   "cell_type": "markdown",
   "metadata": {},
   "source": [
    "### (e) Bayesian Linear Regression"
   ]
  },
  {
   "cell_type": "markdown",
   "metadata": {},
   "source": [
    "<font color=blue>$P(w)$  =>prior  、 $P(w|X)$  => posterior</font>"
   ]
  },
  {
   "cell_type": "markdown",
   "metadata": {},
   "source": [
    "<font color=blue>\n",
    "$p(w|X,Y)\\propto \\exp \\big(-\\frac{1}{2}(w-\\mu_{m})^{T}\\Lambda_m^{-1}(w-\\mu_m)\\big)$ </font>"
   ]
  },
  {
   "cell_type": "markdown",
   "metadata": {},
   "source": [
    "<font color=blue>\n",
    "$\\Lambda_m=\\big(X^{T}X+\\Lambda_0^{-1}\\big)^{-1}$、$\\alpha=1$、$\\mu_0=0$、$\\Lambda_0=\\frac{1}{\\lambda}I$</font>"
   ]
  },
  {
   "cell_type": "markdown",
   "metadata": {},
   "source": [
    "<font color=blue>$\\mu_m=\\Lambda_m\\big(X^{T}y+\\Lambda_0^{-1}\\mu_0\\big)$</font>"
   ]
  },
  {
   "cell_type": "markdown",
   "metadata": {},
   "source": [
    "<font color=blue>$\\Rightarrow \\,\\hat{w}=\\mu_m=\\big(X^{T}X+\\alpha I\\big)^{-1}X^{T}y$</font>"
   ]
  },
  {
   "cell_type": "code",
   "execution_count": 24,
   "metadata": {},
   "outputs": [],
   "source": [
    "def Bayesian_LR(X,Y,alpha):\n",
    "    w=MU_m=np.linalg.inv(X.T*X+alpha*(np.identity(X.shape[1])))*X.T*Y \n",
    "    y_hat=np.matmul(X,w)\n",
    "    return(w,y_hat)"
   ]
  },
  {
   "cell_type": "code",
   "execution_count": 25,
   "metadata": {},
   "outputs": [],
   "source": [
    "w,y_hat=Bayesian_LR(X_train_int,y_train,alpha=1)\n",
    "y_pred_bay=np.matmul(X_val_int,w)"
   ]
  },
  {
   "cell_type": "markdown",
   "metadata": {},
   "source": [
    "### <span style='background:yellow'><font color=blue> RMSE of the validation_set</font></span>"
   ]
  },
  {
   "cell_type": "code",
   "execution_count": 26,
   "metadata": {},
   "outputs": [
    {
     "data": {
      "text/plain": [
       "3.6190063856614296"
      ]
     },
     "execution_count": 26,
     "metadata": {},
     "output_type": "execute_result"
    }
   ],
   "source": [
    "RMSE(y_val,y_pred_bay)"
   ]
  },
  {
   "cell_type": "markdown",
   "metadata": {},
   "source": [
    "### <span style='background:yellow'><font color=blue> Table of RMSE </font></span>"
   ]
  },
  {
   "cell_type": "markdown",
   "metadata": {},
   "source": [
    "Evaluation           |   (b) LR_w/o_bias    |   (c) LR_Reg_w/o_bias   |   (d) LR_Reg_w/_bias   | (e) Bay_LR_w/_bias\n",
    "------------  | -------  | ------  | ------  | ------\n",
    "RMSE validation   | 11.9037 | 11.9036 |    3.6192 | 3.6190\n"
   ]
  },
  {
   "cell_type": "markdown",
   "metadata": {},
   "source": [
    "###  (f) plot"
   ]
  },
  {
   "cell_type": "code",
   "execution_count": 27,
   "metadata": {},
   "outputs": [
    {
     "data": {
      "text/plain": [
       "<matplotlib.legend.Legend at 0x29e756da308>"
      ]
     },
     "execution_count": 27,
     "metadata": {},
     "output_type": "execute_result"
    },
    {
     "data": {
      "image/png": "[encoded data removed]",
      "text/plain": [
       "<Figure size 864x576 with 1 Axes>"
      ]
     },
     "metadata": {
      "needs_background": "light"
     },
     "output_type": "display_data"
    }
   ],
   "source": [
    "plt.figure(figsize=(12,8))\n",
    "plt.plot(range(0,len(validation_set['ID'])),validation_set['G3'],label='True_G3')\n",
    "plt.plot(range(0,len(validation_set['ID'])),y_pred_LR_re_bias,color='red',label='(d) Linear Regression w/reg. w/ bias')\n",
    "plt.plot(range(0,len(validation_set['ID'])),y_pred_bay,color='navy',alpha=0.3,linewidth=6,label='(e) Bayesian Linear Regression w/ bias')\n",
    "plt.plot(range(0,len(validation_set['ID'])),y_pred_LR,color='green',alpha=1,label='(b) Linear Regression w/o bias')\n",
    "plt.plot(range(0,len(validation_set['ID'])),y_pred_LR_re_no_bias,color='pink',alpha=0.5,linewidth=6,label='(c) Linear Regression w/reg. w/o bias')\n",
    "plt.xlabel('index')\n",
    "plt.ylabel('G3_value')\n",
    "plt.title('validation_set')\n",
    "plt.legend()"
   ]
  },
  {
   "cell_type": "markdown",
   "metadata": {},
   "source": [
    "### <font color=red> Please compare the RMSEs and predicted G3 values in your report. Also, please explain mathematically why    predicted G3 values are closer to the ground truth for (d) and (e).</font>"
   ]
  },
  {
   "cell_type": "markdown",
   "metadata": {},
   "source": [
    "#### - <span style='background:yellow'><font color=blue>   如果在前面 Normalization 的步驟中，只對連續型變數做 Normalization，不對轉one-hot encode後的 [1,0] 做Normalization的話，(b)(c)(d)(e)的結果都是很相近的。\n",
    "\n",
    "#### - <span style='background:yellow'><font color=blue>   但是這裡我們對所有變數(除了 ID、G3)都做了 Normalization。這樣原本有些 column 的值本來應該是0的，現在會變成非0。而 (d)(e) 和 (b)(c) 差別是否有 bias term，所以加了 bias term 來修正，才會是比較接近 ground truth 的。  </font></span>"
   ]
  },
  {
   "cell_type": "markdown",
   "metadata": {},
   "source": [
    "\n",
    "<span style='background:yellow'><font color=blue>  \n",
    "<span style='background:yellow'><font color=blue>  In (d)      $\\;\\hat{w}_{ridge}=(X^{'}X+\\frac{\\lambda}{2} I_p)^{-1}X^{'}Y$\n",
    "\n",
    "\n",
    "<span style='background:yellow'><font color=blue>  In (e)     $\\;\\hat{w}_{Bay}=\\big(X^{T}X+\\alpha I\\big)^{-1}X^{T}Y$\n",
    "\n",
    "<span style='background:yellow'><font color=blue>  (d) 和 (e) 很相似，只是係數不同<font></span>    "
   ]
  },
  {
   "cell_type": "markdown",
   "metadata": {},
   "source": [
    " ### (g) (10%) Apply the model from 1. (e) to test no G3.csv and save your results as StudentID 1.txt. You are       \n",
    " \n",
    " ###                  allowed to tune α."
   ]
  },
  {
   "cell_type": "code",
   "execution_count": 28,
   "metadata": {},
   "outputs": [],
   "source": [
    "alpha=np.linspace(0.001, 50, num=1000)\n",
    "\n",
    "train_rmse=[]\n",
    "val_rmse=[]\n",
    "\n",
    "for i in range(0,len(alpha)):\n",
    "    \n",
    "    w,y_hat=Bayesian_LR(X_train_int,y_train,alpha[i])\n",
    "    \n",
    "    # training\n",
    "    y_pred_bay_train=np.matmul(X_train_int,w)\n",
    "    # RMSE\n",
    "    train_rmse.append(RMSE(y_train,y_pred_bay_train))\n",
    "  \n",
    "    # validation\n",
    "    y_pred_bay_val=np.matmul(X_val_int,w)\n",
    "    # RMSE\n",
    "    val_rmse.append(RMSE(y_val,y_pred_bay_val))"
   ]
  },
  {
   "cell_type": "code",
   "execution_count": 29,
   "metadata": {},
   "outputs": [
    {
     "data": {
      "text/plain": [
       "<matplotlib.legend.Legend at 0x29e778ecec8>"
      ]
     },
     "execution_count": 29,
     "metadata": {},
     "output_type": "execute_result"
    },
    {
     "data": {
      "image/png": "[encoded data removed]",
      "text/plain": [
       "<Figure size 864x576 with 1 Axes>"
      ]
     },
     "metadata": {
      "needs_background": "light"
     },
     "output_type": "display_data"
    }
   ],
   "source": [
    "plt.figure(figsize=(12,8))\n",
    "plt.plot(alpha,train_rmse,label='Training')\n",
    "plt.plot(alpha,val_rmse,label='validation')\n",
    "plt.xlabel('alpha')\n",
    "plt.ylabel('RMSE')\n",
    "plt.legend()"
   ]
  },
  {
   "cell_type": "markdown",
   "metadata": {},
   "source": [
    "###   choose alpha 使得 validation_set 的 RMSE 最小"
   ]
  },
  {
   "cell_type": "code",
   "execution_count": 30,
   "metadata": {},
   "outputs": [
    {
     "name": "stdout",
     "output_type": "stream",
     "text": [
      "10.311104104104105\n"
     ]
    }
   ],
   "source": [
    "alpha1=alpha[val_rmse.index(min(val_rmse))]\n",
    "print(alpha1)\n",
    "w,y_hat=Bayesian_LR(X_train_int,y_train,alpha1)"
   ]
  },
  {
   "cell_type": "code",
   "execution_count": 31,
   "metadata": {},
   "outputs": [],
   "source": [
    "# test set\n",
    "X_test=np.concatenate(([np.matrix(test_N[test_N.columns[col]]).T for col in range(1,len(test_N.columns))]),axis=1)\n",
    "X_test_int=np.concatenate(((np.matrix(np.ones(X_test.shape[0])).T,X_test)),axis=1)"
   ]
  },
  {
   "cell_type": "code",
   "execution_count": 32,
   "metadata": {},
   "outputs": [
    {
     "data": {
      "text/plain": [
       "array([11.7658214 , 11.53238099, 12.07611012, 12.14107207, 11.82886946,\n",
       "       10.6090476 , 11.38565452, 13.45390075, 11.85313967,  9.86451509,\n",
       "       12.69815522,  9.42080583, 11.90454596, 12.28416698, 10.68218635,\n",
       "       12.35433229,  3.83488939, 13.58142356,  5.63958089, 13.07113724,\n",
       "       11.52317128,  9.77260242, 10.20925333, 12.21917056, 11.36656154,\n",
       "       11.59354976, 12.98492592, 12.03988172, 11.50757414,  8.72848126,\n",
       "       11.12508044,  5.87788754, 12.12346259, 11.50567537, 11.85560677,\n",
       "       12.46451662, 12.15800412, 12.89199836, 11.75098985, 13.15973581,\n",
       "        4.88471356, 12.41319284, 11.58954855, 10.89804324])"
      ]
     },
     "execution_count": 32,
     "metadata": {},
     "output_type": "execute_result"
    }
   ],
   "source": [
    "y_test_pred=np.asarray(np.matmul(X_test_int,w)).reshape(-1)\n",
    "y_test_pred"
   ]
  },
  {
   "cell_type": "code",
   "execution_count": 33,
   "metadata": {},
   "outputs": [],
   "source": [
    "outf = open(file=\"R10h41003.txt\", mode=\"wt\")  \n",
    "for i in range(len(y_test_pred)):\n",
    "    outf.write(str(1001+i)+\"\\t\"+str(y_test_pred[i])+'\\n')\n",
    "outf.flush()                            \n",
    "outf.close()"
   ]
  },
  {
   "cell_type": "markdown",
   "metadata": {},
   "source": [
    "# 2. (20%) Census Income Data Set"
   ]
  },
  {
   "cell_type": "markdown",
   "metadata": {},
   "source": [
    "#### (a) Try to do 1. (a)-(e) on Census Income Data Set (adult.data and adult.test, for more details, check https://archive.ics.uci.edu/ml/datasets/Census+Income). α is tunable. \n",
    "\n",
    "#### Predict target is the last column (>50K, ≤50K). Describe your finding."
   ]
  },
  {
   "cell_type": "markdown",
   "metadata": {},
   "source": [
    "# Read Data"
   ]
  },
  {
   "cell_type": "code",
   "execution_count": 34,
   "metadata": {},
   "outputs": [
    {
     "name": "stdout",
     "output_type": "stream",
     "text": [
      "(32561, 15)\n"
     ]
    },
    {
     "data": {
      "text/html": [
       "<div>\n",
       "<style scoped>\n",
       "    .dataframe tbody tr th:only-of-type {\n",
       "        vertical-align: middle;\n",
       "    }\n",
       "\n",
       "    .dataframe tbody tr th {\n",
       "        vertical-align: top;\n",
       "    }\n",
       "\n",
       "    .dataframe thead th {\n",
       "        text-align: right;\n",
       "    }\n",
       "</style>\n",
       "<table border=\"1\" class=\"dataframe\">\n",
       "  <thead>\n",
       "    <tr style=\"text-align: right;\">\n",
       "      <th></th>\n",
       "      <th>age</th>\n",
       "      <th>workclass</th>\n",
       "      <th>fnlwgt</th>\n",
       "      <th>education</th>\n",
       "      <th>education-num</th>\n",
       "      <th>marital-status</th>\n",
       "      <th>occupation</th>\n",
       "      <th>relationship</th>\n",
       "      <th>race</th>\n",
       "      <th>sex</th>\n",
       "      <th>capital-gain</th>\n",
       "      <th>capital-loss</th>\n",
       "      <th>hours-per-week</th>\n",
       "      <th>native-country</th>\n",
       "      <th>income</th>\n",
       "    </tr>\n",
       "  </thead>\n",
       "  <tbody>\n",
       "    <tr>\n",
       "      <th>0</th>\n",
       "      <td>39</td>\n",
       "      <td>State-gov</td>\n",
       "      <td>77516</td>\n",
       "      <td>Bachelors</td>\n",
       "      <td>13</td>\n",
       "      <td>Never-married</td>\n",
       "      <td>Adm-clerical</td>\n",
       "      <td>Not-in-family</td>\n",
       "      <td>White</td>\n",
       "      <td>Male</td>\n",
       "      <td>2174</td>\n",
       "      <td>0</td>\n",
       "      <td>40</td>\n",
       "      <td>United-States</td>\n",
       "      <td>&lt;=50K</td>\n",
       "    </tr>\n",
       "    <tr>\n",
       "      <th>1</th>\n",
       "      <td>50</td>\n",
       "      <td>Self-emp-not-inc</td>\n",
       "      <td>83311</td>\n",
       "      <td>Bachelors</td>\n",
       "      <td>13</td>\n",
       "      <td>Married-civ-spouse</td>\n",
       "      <td>Exec-managerial</td>\n",
       "      <td>Husband</td>\n",
       "      <td>White</td>\n",
       "      <td>Male</td>\n",
       "      <td>0</td>\n",
       "      <td>0</td>\n",
       "      <td>13</td>\n",
       "      <td>United-States</td>\n",
       "      <td>&lt;=50K</td>\n",
       "    </tr>\n",
       "    <tr>\n",
       "      <th>2</th>\n",
       "      <td>38</td>\n",
       "      <td>Private</td>\n",
       "      <td>215646</td>\n",
       "      <td>HS-grad</td>\n",
       "      <td>9</td>\n",
       "      <td>Divorced</td>\n",
       "      <td>Handlers-cleaners</td>\n",
       "      <td>Not-in-family</td>\n",
       "      <td>White</td>\n",
       "      <td>Male</td>\n",
       "      <td>0</td>\n",
       "      <td>0</td>\n",
       "      <td>40</td>\n",
       "      <td>United-States</td>\n",
       "      <td>&lt;=50K</td>\n",
       "    </tr>\n",
       "    <tr>\n",
       "      <th>3</th>\n",
       "      <td>53</td>\n",
       "      <td>Private</td>\n",
       "      <td>234721</td>\n",
       "      <td>11th</td>\n",
       "      <td>7</td>\n",
       "      <td>Married-civ-spouse</td>\n",
       "      <td>Handlers-cleaners</td>\n",
       "      <td>Husband</td>\n",
       "      <td>Black</td>\n",
       "      <td>Male</td>\n",
       "      <td>0</td>\n",
       "      <td>0</td>\n",
       "      <td>40</td>\n",
       "      <td>United-States</td>\n",
       "      <td>&lt;=50K</td>\n",
       "    </tr>\n",
       "    <tr>\n",
       "      <th>4</th>\n",
       "      <td>28</td>\n",
       "      <td>Private</td>\n",
       "      <td>338409</td>\n",
       "      <td>Bachelors</td>\n",
       "      <td>13</td>\n",
       "      <td>Married-civ-spouse</td>\n",
       "      <td>Prof-specialty</td>\n",
       "      <td>Wife</td>\n",
       "      <td>Black</td>\n",
       "      <td>Female</td>\n",
       "      <td>0</td>\n",
       "      <td>0</td>\n",
       "      <td>40</td>\n",
       "      <td>Cuba</td>\n",
       "      <td>&lt;=50K</td>\n",
       "    </tr>\n",
       "  </tbody>\n",
       "</table>\n",
       "</div>"
      ],
      "text/plain": [
       "   age          workclass  fnlwgt   education  education-num  \\\n",
       "0   39          State-gov   77516   Bachelors             13   \n",
       "1   50   Self-emp-not-inc   83311   Bachelors             13   \n",
       "2   38            Private  215646     HS-grad              9   \n",
       "3   53            Private  234721        11th              7   \n",
       "4   28            Private  338409   Bachelors             13   \n",
       "\n",
       "        marital-status          occupation    relationship    race      sex  \\\n",
       "0        Never-married        Adm-clerical   Not-in-family   White     Male   \n",
       "1   Married-civ-spouse     Exec-managerial         Husband   White     Male   \n",
       "2             Divorced   Handlers-cleaners   Not-in-family   White     Male   \n",
       "3   Married-civ-spouse   Handlers-cleaners         Husband   Black     Male   \n",
       "4   Married-civ-spouse      Prof-specialty            Wife   Black   Female   \n",
       "\n",
       "   capital-gain  capital-loss  hours-per-week  native-country  income  \n",
       "0          2174             0              40   United-States   <=50K  \n",
       "1             0             0              13   United-States   <=50K  \n",
       "2             0             0              40   United-States   <=50K  \n",
       "3             0             0              40   United-States   <=50K  \n",
       "4             0             0              40            Cuba   <=50K  "
      ]
     },
     "execution_count": 34,
     "metadata": {},
     "output_type": "execute_result"
    }
   ],
   "source": [
    "con_var=['age','fnlwgt','education-num','capital-gain','capital-loss','hours-per-week']\n",
    "cate_var=['workclass','education','marital-status','occupation','relationship','race','sex','native-country']\n",
    "target=['income']\n",
    "\n",
    "columns=['age', 'workclass', 'fnlwgt','education','education-num','marital-status','occupation','relationship','race','sex','capital-gain','capital-loss','hours-per-week','native-country']\n",
    "\n",
    "# reading csv files\n",
    "train =  pd.read_csv('adult.data', sep=\",\",names=columns+target,index_col=False)\n",
    "print(train.shape)\n",
    "train.head()"
   ]
  },
  {
   "cell_type": "code",
   "execution_count": 35,
   "metadata": {},
   "outputs": [
    {
     "name": "stdout",
     "output_type": "stream",
     "text": [
      "(16281, 15)\n"
     ]
    },
    {
     "data": {
      "text/html": [
       "<div>\n",
       "<style scoped>\n",
       "    .dataframe tbody tr th:only-of-type {\n",
       "        vertical-align: middle;\n",
       "    }\n",
       "\n",
       "    .dataframe tbody tr th {\n",
       "        vertical-align: top;\n",
       "    }\n",
       "\n",
       "    .dataframe thead th {\n",
       "        text-align: right;\n",
       "    }\n",
       "</style>\n",
       "<table border=\"1\" class=\"dataframe\">\n",
       "  <thead>\n",
       "    <tr style=\"text-align: right;\">\n",
       "      <th></th>\n",
       "      <th>age</th>\n",
       "      <th>workclass</th>\n",
       "      <th>fnlwgt</th>\n",
       "      <th>education</th>\n",
       "      <th>education-num</th>\n",
       "      <th>marital-status</th>\n",
       "      <th>occupation</th>\n",
       "      <th>relationship</th>\n",
       "      <th>race</th>\n",
       "      <th>sex</th>\n",
       "      <th>capital-gain</th>\n",
       "      <th>capital-loss</th>\n",
       "      <th>hours-per-week</th>\n",
       "      <th>native-country</th>\n",
       "      <th>income</th>\n",
       "    </tr>\n",
       "  </thead>\n",
       "  <tbody>\n",
       "    <tr>\n",
       "      <th>0</th>\n",
       "      <td>25</td>\n",
       "      <td>Private</td>\n",
       "      <td>226802</td>\n",
       "      <td>11th</td>\n",
       "      <td>7</td>\n",
       "      <td>Never-married</td>\n",
       "      <td>Machine-op-inspct</td>\n",
       "      <td>Own-child</td>\n",
       "      <td>Black</td>\n",
       "      <td>Male</td>\n",
       "      <td>0</td>\n",
       "      <td>0</td>\n",
       "      <td>40</td>\n",
       "      <td>United-States</td>\n",
       "      <td>&lt;=50K.</td>\n",
       "    </tr>\n",
       "    <tr>\n",
       "      <th>1</th>\n",
       "      <td>38</td>\n",
       "      <td>Private</td>\n",
       "      <td>89814</td>\n",
       "      <td>HS-grad</td>\n",
       "      <td>9</td>\n",
       "      <td>Married-civ-spouse</td>\n",
       "      <td>Farming-fishing</td>\n",
       "      <td>Husband</td>\n",
       "      <td>White</td>\n",
       "      <td>Male</td>\n",
       "      <td>0</td>\n",
       "      <td>0</td>\n",
       "      <td>50</td>\n",
       "      <td>United-States</td>\n",
       "      <td>&lt;=50K.</td>\n",
       "    </tr>\n",
       "    <tr>\n",
       "      <th>2</th>\n",
       "      <td>28</td>\n",
       "      <td>Local-gov</td>\n",
       "      <td>336951</td>\n",
       "      <td>Assoc-acdm</td>\n",
       "      <td>12</td>\n",
       "      <td>Married-civ-spouse</td>\n",
       "      <td>Protective-serv</td>\n",
       "      <td>Husband</td>\n",
       "      <td>White</td>\n",
       "      <td>Male</td>\n",
       "      <td>0</td>\n",
       "      <td>0</td>\n",
       "      <td>40</td>\n",
       "      <td>United-States</td>\n",
       "      <td>&gt;50K.</td>\n",
       "    </tr>\n",
       "    <tr>\n",
       "      <th>3</th>\n",
       "      <td>44</td>\n",
       "      <td>Private</td>\n",
       "      <td>160323</td>\n",
       "      <td>Some-college</td>\n",
       "      <td>10</td>\n",
       "      <td>Married-civ-spouse</td>\n",
       "      <td>Machine-op-inspct</td>\n",
       "      <td>Husband</td>\n",
       "      <td>Black</td>\n",
       "      <td>Male</td>\n",
       "      <td>7688</td>\n",
       "      <td>0</td>\n",
       "      <td>40</td>\n",
       "      <td>United-States</td>\n",
       "      <td>&gt;50K.</td>\n",
       "    </tr>\n",
       "    <tr>\n",
       "      <th>4</th>\n",
       "      <td>18</td>\n",
       "      <td>?</td>\n",
       "      <td>103497</td>\n",
       "      <td>Some-college</td>\n",
       "      <td>10</td>\n",
       "      <td>Never-married</td>\n",
       "      <td>?</td>\n",
       "      <td>Own-child</td>\n",
       "      <td>White</td>\n",
       "      <td>Female</td>\n",
       "      <td>0</td>\n",
       "      <td>0</td>\n",
       "      <td>30</td>\n",
       "      <td>United-States</td>\n",
       "      <td>&lt;=50K.</td>\n",
       "    </tr>\n",
       "  </tbody>\n",
       "</table>\n",
       "</div>"
      ],
      "text/plain": [
       "   age   workclass  fnlwgt      education  education-num       marital-status  \\\n",
       "0   25     Private  226802           11th              7        Never-married   \n",
       "1   38     Private   89814        HS-grad              9   Married-civ-spouse   \n",
       "2   28   Local-gov  336951     Assoc-acdm             12   Married-civ-spouse   \n",
       "3   44     Private  160323   Some-college             10   Married-civ-spouse   \n",
       "4   18           ?  103497   Some-college             10        Never-married   \n",
       "\n",
       "           occupation relationship    race      sex  capital-gain  \\\n",
       "0   Machine-op-inspct    Own-child   Black     Male             0   \n",
       "1     Farming-fishing      Husband   White     Male             0   \n",
       "2     Protective-serv      Husband   White     Male             0   \n",
       "3   Machine-op-inspct      Husband   Black     Male          7688   \n",
       "4                   ?    Own-child   White   Female             0   \n",
       "\n",
       "   capital-loss  hours-per-week  native-country   income  \n",
       "0             0              40   United-States   <=50K.  \n",
       "1             0              50   United-States   <=50K.  \n",
       "2             0              40   United-States    >50K.  \n",
       "3             0              40   United-States    >50K.  \n",
       "4             0              30   United-States   <=50K.  "
      ]
     },
     "execution_count": 35,
     "metadata": {},
     "output_type": "execute_result"
    }
   ],
   "source": [
    "test =  pd.read_csv('adult.test', sep=\",\",names=columns+target,index_col=False,skiprows=[0])\n",
    "print(test.shape)\n",
    "test.head()"
   ]
  },
  {
   "cell_type": "markdown",
   "metadata": {},
   "source": [
    "# Transform category  columns to one-hot encoding vectors"
   ]
  },
  {
   "cell_type": "code",
   "execution_count": 36,
   "metadata": {},
   "outputs": [],
   "source": [
    "train=pd.concat([train[target+con_var],pd.DataFrame(pd.get_dummies(train[cate_var]))],axis=1) \n",
    "test=pd.concat([test[target+con_var],pd.DataFrame(pd.get_dummies(test[cate_var]))],axis=1) "
   ]
  },
  {
   "cell_type": "code",
   "execution_count": 37,
   "metadata": {},
   "outputs": [],
   "source": [
    "test['native-country_ Holand-Netherlands']=0\n",
    "test=pd.DataFrame(test, columns=train.columns)"
   ]
  },
  {
   "cell_type": "markdown",
   "metadata": {},
   "source": [
    "# Split train.csv into training set (80%) and validation set (20%)"
   ]
  },
  {
   "cell_type": "code",
   "execution_count": 38,
   "metadata": {},
   "outputs": [
    {
     "name": "stdout",
     "output_type": "stream",
     "text": [
      "(26048, 109)\n",
      "(6513, 109)\n"
     ]
    }
   ],
   "source": [
    "random.seed(121)\n",
    "p=0.8\n",
    "training_set,validation_set=train_valid_split(train,p)\n",
    "\n",
    "print(training_set.shape)\n",
    "print(validation_set.shape)"
   ]
  },
  {
   "cell_type": "markdown",
   "metadata": {},
   "source": [
    "# Normalization"
   ]
  },
  {
   "cell_type": "code",
   "execution_count": 39,
   "metadata": {},
   "outputs": [],
   "source": [
    "tra_X_mean=training_set[training_set.columns[1:]].mean(axis=0) #選擇需要 normalized 的變數\n",
    "tra_X_std=training_set[training_set.columns[1:]].std(axis=0)"
   ]
  },
  {
   "cell_type": "code",
   "execution_count": 40,
   "metadata": {},
   "outputs": [],
   "source": [
    "training_set_N, validation_set_N,test_N=Normalization(training_set,validation_set,test,tra_X_mean,tra_X_std)"
   ]
  },
  {
   "cell_type": "code",
   "execution_count": 41,
   "metadata": {},
   "outputs": [],
   "source": [
    "# training set\n",
    "X_train=np.concatenate(([np.matrix(training_set_N[training_set.columns[col]]).T \n",
    "                         for col in range(1,len(training_set.columns))]),axis=1)\n",
    "\n",
    "# validation_set\n",
    "X_val=np.concatenate(([np.matrix(validation_set_N[validation_set_N.columns[col]]).T \n",
    "                         for col in range(1,len(validation_set_N.columns))]),axis=1)\n",
    "\n",
    "# test_set\n",
    "X_test=np.concatenate(([np.matrix(test_N[test_N.columns[col]]).T \n",
    "                         for col in range(1,len(test_N.columns))]),axis=1)"
   ]
  },
  {
   "cell_type": "code",
   "execution_count": 42,
   "metadata": {},
   "outputs": [],
   "source": [
    "y_train=np.matrix(pd.DataFrame(pd.get_dummies(training_set_N[target],drop_first=True))) #income_>50k\n",
    "y_val=np.matrix(pd.DataFrame(pd.get_dummies(validation_set_N[target],drop_first=True))) #income_>50k\n",
    "y_test=np.matrix(pd.DataFrame(pd.get_dummies(test_N[target],drop_first=True))) #income_>50k"
   ]
  },
  {
   "cell_type": "markdown",
   "metadata": {},
   "source": [
    "### Transform  $\\hat{w}^T X$  to probability"
   ]
  },
  {
   "cell_type": "markdown",
   "metadata": {},
   "source": [
    "$P(Y=1|X)=\\frac{exp\\,(\\hat{w}^T X)}{1+exp\\,(\\hat{w}^T X)}$"
   ]
  },
  {
   "cell_type": "markdown",
   "metadata": {},
   "source": [
    "$if \\; \\frac{exp\\,(\\hat{w}^T X)}{1+exp\\,(\\hat{w}^T X)}\\;  > \\; threshold=0.5 \\; ,\\; then \\; \\hat{Y}=1 $"
   ]
  },
  {
   "cell_type": "code",
   "execution_count": 43,
   "metadata": {},
   "outputs": [],
   "source": [
    "def transform_function(X,w,threshold=0.5):\n",
    "    y_pred_LR=np.matmul(X,w)\n",
    "    prob=np.asarray(np.exp(y_pred_LR)/(1+np.exp(y_pred_LR))).reshape(-1)\n",
    "    y_binary_pred=np.copy(prob)\n",
    "    y_binary_pred[y_binary_pred>threshold]=1.0\n",
    "    y_binary_pred[y_binary_pred<=threshold]=0.0\n",
    "    y_binary_pred=y_binary_pred.astype(np.uint8)\n",
    "    return(prob,y_binary_pred)"
   ]
  },
  {
   "cell_type": "code",
   "execution_count": 44,
   "metadata": {},
   "outputs": [],
   "source": [
    "threshold=0.5"
   ]
  },
  {
   "cell_type": "code",
   "execution_count": 45,
   "metadata": {},
   "outputs": [],
   "source": [
    "def accuracy(y,y_binary_pred):\n",
    "    y=np.asarray(y).reshape(-1)\n",
    "    y_binary_pred=np.asarray(y_binary_pred).reshape(-1)\n",
    "    return(sum(y==y_binary_pred)/len(y))"
   ]
  },
  {
   "cell_type": "markdown",
   "metadata": {},
   "source": [
    "### Linear regression model without the bias term . Use pseudo_inverse to obtain the weights. "
   ]
  },
  {
   "cell_type": "markdown",
   "metadata": {},
   "source": [
    "- Calculate $\\hat{w}^T X$"
   ]
  },
  {
   "cell_type": "code",
   "execution_count": 46,
   "metadata": {},
   "outputs": [
    {
     "name": "stdout",
     "output_type": "stream",
     "text": [
      "RMSE of the validation_set : 0.41382515698866834\n",
      "RMSE of the test : 0.4144076582951691\n"
     ]
    }
   ],
   "source": [
    "# 1-(b) before transformation\n",
    "w,y_hat=LR(X_train,y_train)\n",
    "\n",
    "# RMSE\n",
    "print('RMSE of the validation_set :',RMSE(np.matmul(X_val,w),y_val))\n",
    "print('RMSE of the test :',RMSE(np.matmul(X_test,w),y_test))\n"
   ]
  },
  {
   "cell_type": "markdown",
   "metadata": {},
   "source": [
    "- Transformation"
   ]
  },
  {
   "cell_type": "code",
   "execution_count": 47,
   "metadata": {},
   "outputs": [
    {
     "name": "stdout",
     "output_type": "stream",
     "text": [
      "Accuracy of the validation_set : 0.7250115154306771\n",
      "Accuracy of the test : 0.7223143541551502\n"
     ]
    }
   ],
   "source": [
    "# 1-(b) transformation\n",
    "\n",
    "# validation_set\n",
    "prob,y_binary_pred=transform_function(X_val,w,threshold)\n",
    "print('Accuracy of the validation_set :',accuracy(y_val,y_binary_pred))\n",
    "\n",
    "# test\n",
    "prob,y_binary_pred=transform_function(X_test,w,threshold)\n",
    "print('Accuracy of the test :',accuracy(y_test,y_binary_pred))"
   ]
  },
  {
   "cell_type": "markdown",
   "metadata": {},
   "source": [
    "### Regularization for linear regression model without the bias term "
   ]
  },
  {
   "cell_type": "code",
   "execution_count": 48,
   "metadata": {},
   "outputs": [
    {
     "name": "stdout",
     "output_type": "stream",
     "text": [
      "RMSE of the validation_set : 0.41382513736164184\n",
      "RMSE of the test : 0.41440759028039653\n"
     ]
    }
   ],
   "source": [
    "# 1-(c) before transformation\n",
    "w,y_hat=LR_Regularization(X_train,y_train,lamb=1)\n",
    "print('RMSE of the validation_set :',RMSE(np.matmul(X_val,w),y_val))\n",
    "print('RMSE of the test :',RMSE(np.matmul(X_test,w),y_test))"
   ]
  },
  {
   "cell_type": "code",
   "execution_count": 49,
   "metadata": {},
   "outputs": [
    {
     "name": "stdout",
     "output_type": "stream",
     "text": [
      "Accuracy of the validation_set : 0.7248579763549824\n",
      "Accuracy of the test : 0.7223143541551502\n"
     ]
    }
   ],
   "source": [
    "# 1-(C) transformation\n",
    "\n",
    "# validation_set\n",
    "prob,y_binary_pred=transform_function(X_val,w,threshold)\n",
    "print('Accuracy of the validation_set :',accuracy(y_val,y_binary_pred))\n",
    "\n",
    "# test\n",
    "prob,y_binary_pred=transform_function(X_test,w,threshold)\n",
    "print('Accuracy of the test :',accuracy(y_test,y_binary_pred))"
   ]
  },
  {
   "cell_type": "markdown",
   "metadata": {},
   "source": [
    "### Regularization for linear regression model with the bias term"
   ]
  },
  {
   "cell_type": "code",
   "execution_count": 50,
   "metadata": {},
   "outputs": [
    {
     "name": "stdout",
     "output_type": "stream",
     "text": [
      "RMSE of the validation_set : 0.3378605918724083\n",
      "RMSE of the test : 0.3395520935443644\n"
     ]
    }
   ],
   "source": [
    "# Add the bias term\n",
    "X_train_int=np.concatenate((np.matrix(np.ones(X_train.shape[0])).T,X_train),axis=1)\n",
    "X_val_int=np.concatenate((np.matrix(np.ones(X_val.shape[0])).T,X_val),axis=1)\n",
    "X_test_int=np.concatenate((np.matrix(np.ones(X_test.shape[0])).T,X_test),axis=1)\n",
    "\n",
    "# 1-(d) before transformation\n",
    "w,y_hat=LR_Regularization(X_train_int,y_train,lamb=1)\n",
    "\n",
    "print('RMSE of the validation_set :',RMSE(np.matmul(X_val_int,w),y_val))\n",
    "print('RMSE of the test :',RMSE(np.matmul(X_test_int,w),y_test))"
   ]
  },
  {
   "cell_type": "code",
   "execution_count": 51,
   "metadata": {},
   "outputs": [
    {
     "name": "stdout",
     "output_type": "stream",
     "text": [
      "Accuracy of the validation_set : 0.4461845539689851\n",
      "Accuracy of the test : 0.4398378477980468\n"
     ]
    }
   ],
   "source": [
    "# 1-(d) transformation\n",
    "\n",
    "# validation_set\n",
    "prob,y_binary_pred=transform_function(X_val_int,w,threshold)\n",
    "print('Accuracy of the validation_set :',accuracy(y_val,y_binary_pred))\n",
    "\n",
    "# test\n",
    "prob,y_binary_pred=transform_function(X_test_int,w,threshold)\n",
    "print('Accuracy of the test :',accuracy(y_test,y_binary_pred))"
   ]
  },
  {
   "cell_type": "markdown",
   "metadata": {},
   "source": [
    "### Bayesian linear regression model with the bias term."
   ]
  },
  {
   "cell_type": "markdown",
   "metadata": {},
   "source": [
    "### Turn a"
   ]
  },
  {
   "cell_type": "code",
   "execution_count": 52,
   "metadata": {},
   "outputs": [],
   "source": [
    "alpha=np.linspace(100, 8000000, num=500)\n",
    "train_acc=[]\n",
    "val_acc=[]\n",
    "\n",
    "for i in range(0,len(alpha)):\n",
    "    \n",
    "    w,y_hat=Bayesian_LR(X_train_int,y_train,alpha[i])\n",
    "\n",
    "    # training\n",
    "    prob,y_binary_pred=transform_function(X_train_int,w,threshold)\n",
    "    # accurcy\n",
    "    train_acc.append(accuracy(y_train,y_binary_pred))\n",
    "  \n",
    "   # validation\n",
    "    prob,y_binary_pred_v=transform_function(X_val_int,w,threshold)\n",
    "    # accurcy\n",
    "    val_acc.append(accuracy(y_val,y_binary_pred_v))   "
   ]
  },
  {
   "cell_type": "code",
   "execution_count": 53,
   "metadata": {},
   "outputs": [
    {
     "data": {
      "text/plain": [
       "<matplotlib.legend.Legend at 0x29e77e2fb48>"
      ]
     },
     "execution_count": 53,
     "metadata": {},
     "output_type": "execute_result"
    },
    {
     "data": {
      "image/png": "[encoded data removed]",
      "text/plain": [
       "<Figure size 864x576 with 1 Axes>"
      ]
     },
     "metadata": {
      "needs_background": "light"
     },
     "output_type": "display_data"
    }
   ],
   "source": [
    "plt.figure(figsize=(12,8))\n",
    "plt.plot(alpha,train_acc,label='Training')\n",
    "plt.plot(alpha,val_acc,label='validation')\n",
    "plt.xlabel('alpha')\n",
    "plt.ylabel('Accuracy')\n",
    "plt.legend()"
   ]
  },
  {
   "cell_type": "markdown",
   "metadata": {},
   "source": [
    "### <font color=blue>  choose alpha 使得 validation_set 的 accuracy 最大</font>"
   ]
  },
  {
   "cell_type": "code",
   "execution_count": 54,
   "metadata": {},
   "outputs": [
    {
     "name": "stdout",
     "output_type": "stream",
     "text": [
      "7679362.725450901\n"
     ]
    }
   ],
   "source": [
    "alpha1=alpha[val_acc.index(max(val_acc))]\n",
    "print(alpha1)"
   ]
  },
  {
   "cell_type": "code",
   "execution_count": 55,
   "metadata": {},
   "outputs": [
    {
     "name": "stdout",
     "output_type": "stream",
     "text": [
      "RMSE of the validation_set : 0.489480692711753\n",
      "RMSE of the test : 0.48397703899750827\n"
     ]
    }
   ],
   "source": [
    "# 1-(e) before transformation\n",
    "w,y_hat=Bayesian_LR(X_train_int,y_train,alpha1)\n",
    "\n",
    "print('RMSE of the validation_set :',RMSE(np.matmul(X_val_int,w),y_val))\n",
    "print('RMSE of the test :',RMSE(np.matmul(X_test_int,w),y_test))"
   ]
  },
  {
   "cell_type": "code",
   "execution_count": 56,
   "metadata": {},
   "outputs": [
    {
     "name": "stdout",
     "output_type": "stream",
     "text": [
      "Accuracy of the validation_set : 0.6778750191923845\n",
      "Accuracy of the test : 0.6697377310975984\n"
     ]
    }
   ],
   "source": [
    "# 1-(e) transformation\n",
    "\n",
    "# validation_set\n",
    "prob,y_binary_pred=transform_function(X_val_int,w,threshold)\n",
    "print('Accuracy of the validation_set :',accuracy(y_val,y_binary_pred))\n",
    "\n",
    "# test\n",
    "prob,y_binary_pred=transform_function(X_test_int,w,threshold)\n",
    "print('Accuracy of the test :',accuracy(y_test,y_binary_pred))"
   ]
  },
  {
   "cell_type": "markdown",
   "metadata": {},
   "source": [
    "### <font color=red>  Describe your finding ?</font>"
   ]
  },
  {
   "cell_type": "markdown",
   "metadata": {},
   "source": [
    "因為這題要預測的target不是連續的數值，是(>50k)or(<=50k)，所以要先轉換成 one-hot encoding，然後刪除一個 row，當成 $Y_{true}$"
   ]
  },
  {
   "cell_type": "code",
   "execution_count": 57,
   "metadata": {},
   "outputs": [
    {
     "data": {
      "text/html": [
       "<div>\n",
       "<style scoped>\n",
       "    .dataframe tbody tr th:only-of-type {\n",
       "        vertical-align: middle;\n",
       "    }\n",
       "\n",
       "    .dataframe tbody tr th {\n",
       "        vertical-align: top;\n",
       "    }\n",
       "\n",
       "    .dataframe thead th {\n",
       "        text-align: right;\n",
       "    }\n",
       "</style>\n",
       "<table border=\"1\" class=\"dataframe\">\n",
       "  <thead>\n",
       "    <tr style=\"text-align: right;\">\n",
       "      <th></th>\n",
       "      <th>income_ &gt;50K</th>\n",
       "    </tr>\n",
       "  </thead>\n",
       "  <tbody>\n",
       "    <tr>\n",
       "      <th>0</th>\n",
       "      <td>0</td>\n",
       "    </tr>\n",
       "    <tr>\n",
       "      <th>1</th>\n",
       "      <td>0</td>\n",
       "    </tr>\n",
       "    <tr>\n",
       "      <th>2</th>\n",
       "      <td>0</td>\n",
       "    </tr>\n",
       "    <tr>\n",
       "      <th>3</th>\n",
       "      <td>0</td>\n",
       "    </tr>\n",
       "    <tr>\n",
       "      <th>4</th>\n",
       "      <td>0</td>\n",
       "    </tr>\n",
       "  </tbody>\n",
       "</table>\n",
       "</div>"
      ],
      "text/plain": [
       "   income_ >50K\n",
       "0             0\n",
       "1             0\n",
       "2             0\n",
       "3             0\n",
       "4             0"
      ]
     },
     "execution_count": 57,
     "metadata": {},
     "output_type": "execute_result"
    }
   ],
   "source": [
    "# Y_true\n",
    "pd.get_dummies(training_set_N[target],drop_first=True).head()"
   ]
  },
  {
   "cell_type": "markdown",
   "metadata": {},
   "source": [
    "使用兩種 Evaluation funtion :\n",
    "- RMSE ($\\,Y_{true}\\,$,$\\,\\hat{w}^TX\\,$)\n",
    "- Accuracy ($\\,Y_{true}\\,$,$\\,\\hat{Y}\\,$) ，$if \\; \\frac{exp\\,(\\hat{w}^T X)}{1+exp\\,(\\hat{w}^T X)}\\;  > \\; threshold=0.5 \\; ,\\; then \\; \\hat{Y}=1 $"
   ]
  },
  {
   "cell_type": "markdown",
   "metadata": {},
   "source": [
    "Evaluation           | (b)LR_w/o_bias  | (c)LR_Reg_w/o_bias | (d)LR_Reg_w/_bias | (e) Bay_LR_w/_bias\n",
    "------------  | ----  | ---  | ---  | ---\n",
    "RMSE Test   | 0.4144|  0.4144 |    0.3395 | 0.4839\n",
    "RMSE validation   | 0.4138 |  0.4138 |    0.3378 | 0.4894\n",
    "Accuracy Test   | 0.7223 | 0.7223 |  0.4398 | 0.6697\n",
    "Accuracy validation   | 0.7250 |  0.7248 |    0.4460 | 0.6778"
   ]
  },
  {
   "cell_type": "markdown",
   "metadata": {},
   "source": [
    "####   <span style='background:yellow'><font color=blue>-  (b) and (c) without bais term 有比較較高的accuracy.\n",
    "\n",
    "#### <span style='background:yellow'><font color=blue>- (e) 需要將 $\\alpha$ 調到極大，才能有效提升accuracy.\n",
    "\n",
    "#### <span style='background:yellow'><font color=blue>- (d) 的 RMSE 最小，但是 accuracy 卻非常的低。因為 $\\hat{w}^TX$ 算出來的值有正負值，但經過transform_function 轉換後，會將 $\\hat{w}^TX$ 的值域控制在 0-1，所以會有這樣的現象。\n",
    "\n",
    "#### <span style='background:yellow'><font color=blue>- 因此在這種target不是連續數值的題目，不適合用RMSE當作評估指標。</font></span>"
   ]
  },
  {
   "cell_type": "code",
   "execution_count": null,
   "metadata": {},
   "outputs": [],
   "source": []
  },
  {
   "cell_type": "code",
   "execution_count": null,
   "metadata": {},
   "outputs": [],
   "source": []
  }
 ],
 "metadata": {
  "kernelspec": {
   "display_name": "Python 3",
   "language": "python",
   "name": "python3"
  },
  "language_info": {
   "codemirror_mode": {
    "name": "ipython",
    "version": 3
   },
   "file_extension": ".py",
   "mimetype": "text/x-python",
   "name": "python",
   "nbconvert_exporter": "python",
   "pygments_lexer": "ipython3",
   "version": "3.7.6"
  }
 },
 "nbformat": 4,
 "nbformat_minor": 4
}
